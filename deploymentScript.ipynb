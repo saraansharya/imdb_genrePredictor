{
 "cells": [
  {
   "cell_type": "code",
   "execution_count": 14,
   "metadata": {
    "scrolled": true
   },
   "outputs": [
    {
     "name": "stdout",
     "output_type": "stream",
     "text": [
      "\u001b[1m\n",
      "         .:::.     .::.       \n",
      "        ....yy:    .yy.       \n",
      "        :.  .yy.    y.        \n",
      "             :y:   .:         \n",
      "             .yy  .:          \n",
      "              yy..:           \n",
      "              :y:.            \n",
      "              .y.             \n",
      "             .:.              \n",
      "        ....:.                \n",
      "        :::.                  \n",
      "\u001b[0;33m\n",
      "• Project files and data should be stored in /project. This is shared among everyone\n",
      "  in the project.\n",
      "• Personal files and configuration should be stored in /home/faculty.\n",
      "• Files outside /project and /home/faculty will be lost when this server is terminated.\n",
      "• Create custom environments to setup your servers reproducibly.\n",
      "\u001b[0m\n",
      "Requirement already satisfied: flair==0.10 in /opt/anaconda/envs/Python3/lib/python3.8/site-packages (0.10)\n",
      "Requirement already satisfied: sentencepiece==0.1.95 in /opt/anaconda/envs/Python3/lib/python3.8/site-packages (from flair==0.10) (0.1.95)\n",
      "Requirement already satisfied: regex in /opt/anaconda/envs/Python3/lib/python3.8/site-packages (from flair==0.10) (2021.4.4)\n",
      "Requirement already satisfied: janome in /opt/anaconda/envs/Python3/lib/python3.8/site-packages (from flair==0.10) (0.4.2)\n",
      "Requirement already satisfied: gdown==3.12.2 in /opt/anaconda/envs/Python3/lib/python3.8/site-packages (from flair==0.10) (3.12.2)\n",
      "Requirement already satisfied: tqdm>=4.26.0 in /opt/anaconda/envs/Python3/lib/python3.8/site-packages (from flair==0.10) (4.59.0)\n",
      "Requirement already satisfied: sqlitedict>=1.6.0 in /opt/anaconda/envs/Python3/lib/python3.8/site-packages (from flair==0.10) (2.0.0)\n",
      "Requirement already satisfied: gensim>=3.4.0 in /opt/anaconda/envs/Python3/lib/python3.8/site-packages (from flair==0.10) (4.1.2)\n",
      "Requirement already satisfied: deprecated>=1.2.4 in /opt/anaconda/envs/Python3/lib/python3.8/site-packages (from flair==0.10) (1.2.13)\n",
      "Requirement already satisfied: ftfy in /opt/anaconda/envs/Python3/lib/python3.8/site-packages (from flair==0.10) (6.1.1)\n",
      "Requirement already satisfied: langdetect in /opt/anaconda/envs/Python3/lib/python3.8/site-packages (from flair==0.10) (1.0.9)\n",
      "Requirement already satisfied: mpld3==0.3 in /opt/anaconda/envs/Python3/lib/python3.8/site-packages (from flair==0.10) (0.3)\n",
      "Requirement already satisfied: more-itertools~=8.8.0 in /opt/anaconda/envs/Python3/lib/python3.8/site-packages (from flair==0.10) (8.8.0)\n",
      "Requirement already satisfied: matplotlib>=2.2.3 in /opt/anaconda/envs/Python3/lib/python3.8/site-packages (from flair==0.10) (3.3.4)\n",
      "Requirement already satisfied: huggingface-hub in /opt/anaconda/envs/Python3/lib/python3.8/site-packages (from flair==0.10) (0.5.1)\n",
      "Requirement already satisfied: segtok>=1.5.7 in /opt/anaconda/envs/Python3/lib/python3.8/site-packages (from flair==0.10) (1.5.11)\n",
      "Requirement already satisfied: konoha<5.0.0,>=4.0.0 in /opt/anaconda/envs/Python3/lib/python3.8/site-packages (from flair==0.10) (4.6.5)\n",
      "Requirement already satisfied: scikit-learn>=0.21.3 in /opt/anaconda/envs/Python3/lib/python3.8/site-packages (from flair==0.10) (0.24.1)\n",
      "Requirement already satisfied: conllu>=4.0 in /opt/anaconda/envs/Python3/lib/python3.8/site-packages (from flair==0.10) (4.4.1)\n",
      "Requirement already satisfied: torch!=1.8,>=1.5.0 in /opt/anaconda/envs/Python3/lib/python3.8/site-packages (from flair==0.10) (1.11.0)\n",
      "Requirement already satisfied: python-dateutil>=2.6.1 in /opt/anaconda/envs/Python3/lib/python3.8/site-packages (from flair==0.10) (2.8.1)\n",
      "Requirement already satisfied: transformers>=4.0.0 in /opt/anaconda/envs/Python3/lib/python3.8/site-packages (from flair==0.10) (4.18.0)\n",
      "Requirement already satisfied: bpemb>=0.3.2 in /opt/anaconda/envs/Python3/lib/python3.8/site-packages (from flair==0.10) (0.3.3)\n",
      "Requirement already satisfied: wikipedia-api in /opt/anaconda/envs/Python3/lib/python3.8/site-packages (from flair==0.10) (0.5.4)\n",
      "Requirement already satisfied: lxml in /opt/anaconda/envs/Python3/lib/python3.8/site-packages (from flair==0.10) (4.6.3)\n",
      "Requirement already satisfied: tabulate in /opt/anaconda/envs/Python3/lib/python3.8/site-packages (from flair==0.10) (0.8.9)\n",
      "Requirement already satisfied: six in /opt/anaconda/envs/Python3/lib/python3.8/site-packages (from gdown==3.12.2->flair==0.10) (1.15.0)\n",
      "Requirement already satisfied: requests[socks] in /opt/anaconda/envs/Python3/lib/python3.8/site-packages (from gdown==3.12.2->flair==0.10) (2.25.1)\n",
      "Requirement already satisfied: filelock in /opt/anaconda/envs/Python3/lib/python3.8/site-packages (from gdown==3.12.2->flair==0.10) (3.0.12)\n",
      "Requirement already satisfied: numpy in /opt/anaconda/envs/Python3/lib/python3.8/site-packages (from bpemb>=0.3.2->flair==0.10) (1.18.5)\n",
      "Requirement already satisfied: wrapt<2,>=1.10 in /opt/anaconda/envs/Python3/lib/python3.8/site-packages (from deprecated>=1.2.4->flair==0.10) (1.12.1)\n",
      "Requirement already satisfied: scipy>=0.18.1 in /opt/anaconda/envs/Python3/lib/python3.8/site-packages (from gensim>=3.4.0->flair==0.10) (1.6.2)\n",
      "Requirement already satisfied: smart-open>=1.8.1 in /opt/anaconda/envs/Python3/lib/python3.8/site-packages (from gensim>=3.4.0->flair==0.10) (5.2.1)\n",
      "Requirement already satisfied: overrides<4.0.0,>=3.0.0 in /opt/anaconda/envs/Python3/lib/python3.8/site-packages (from konoha<5.0.0,>=4.0.0->flair==0.10) (3.1.0)\n",
      "Requirement already satisfied: importlib-metadata<4.0.0,>=3.7.0 in /opt/anaconda/envs/Python3/lib/python3.8/site-packages (from konoha<5.0.0,>=4.0.0->flair==0.10) (3.10.0)\n",
      "Requirement already satisfied: zipp>=0.5 in /opt/anaconda/envs/Python3/lib/python3.8/site-packages (from importlib-metadata<4.0.0,>=3.7.0->konoha<5.0.0,>=4.0.0->flair==0.10) (3.4.1)\n",
      "Requirement already satisfied: pyparsing!=2.0.4,!=2.1.2,!=2.1.6,>=2.0.3 in /opt/anaconda/envs/Python3/lib/python3.8/site-packages (from matplotlib>=2.2.3->flair==0.10) (2.4.7)\n",
      "Requirement already satisfied: kiwisolver>=1.0.1 in /opt/anaconda/envs/Python3/lib/python3.8/site-packages (from matplotlib>=2.2.3->flair==0.10) (1.3.1)\n",
      "Requirement already satisfied: cycler>=0.10 in /opt/anaconda/envs/Python3/lib/python3.8/site-packages (from matplotlib>=2.2.3->flair==0.10) (0.10.0)\n",
      "Requirement already satisfied: pillow>=6.2.0 in /opt/anaconda/envs/Python3/lib/python3.8/site-packages (from matplotlib>=2.2.3->flair==0.10) (8.2.0)\n",
      "Requirement already satisfied: idna<3,>=2.5 in /opt/anaconda/envs/Python3/lib/python3.8/site-packages (from requests[socks]->gdown==3.12.2->flair==0.10) (2.10)\n",
      "Requirement already satisfied: certifi>=2017.4.17 in /opt/anaconda/envs/Python3/lib/python3.8/site-packages (from requests[socks]->gdown==3.12.2->flair==0.10) (2021.10.8)\n",
      "Requirement already satisfied: urllib3<1.27,>=1.21.1 in /opt/anaconda/envs/Python3/lib/python3.8/site-packages (from requests[socks]->gdown==3.12.2->flair==0.10) (1.26.4)\n",
      "Requirement already satisfied: chardet<5,>=3.0.2 in /opt/anaconda/envs/Python3/lib/python3.8/site-packages (from requests[socks]->gdown==3.12.2->flair==0.10) (4.0.0)\n",
      "Requirement already satisfied: threadpoolctl>=2.0.0 in /opt/anaconda/envs/Python3/lib/python3.8/site-packages (from scikit-learn>=0.21.3->flair==0.10) (2.1.0)\n",
      "Requirement already satisfied: joblib>=0.11 in /opt/anaconda/envs/Python3/lib/python3.8/site-packages (from scikit-learn>=0.21.3->flair==0.10) (1.0.1)\n",
      "Requirement already satisfied: typing-extensions in /opt/anaconda/envs/Python3/lib/python3.8/site-packages (from torch!=1.8,>=1.5.0->flair==0.10) (3.7.4.3)\n",
      "Requirement already satisfied: packaging>=20.0 in /opt/anaconda/envs/Python3/lib/python3.8/site-packages (from transformers>=4.0.0->flair==0.10) (20.9)\n",
      "Requirement already satisfied: pyyaml>=5.1 in /opt/anaconda/envs/Python3/lib/python3.8/site-packages (from transformers>=4.0.0->flair==0.10) (5.4.1)\n",
      "Requirement already satisfied: tokenizers!=0.11.3,<0.13,>=0.11.1 in /opt/anaconda/envs/Python3/lib/python3.8/site-packages (from transformers>=4.0.0->flair==0.10) (0.12.1)\n",
      "Requirement already satisfied: sacremoses in /opt/anaconda/envs/Python3/lib/python3.8/site-packages (from transformers>=4.0.0->flair==0.10) (0.0.49)\n",
      "Requirement already satisfied: wcwidth>=0.2.5 in /opt/anaconda/envs/Python3/lib/python3.8/site-packages (from ftfy->flair==0.10) (0.2.5)\n",
      "Requirement already satisfied: PySocks!=1.5.7,>=1.5.6 in /opt/anaconda/envs/Python3/lib/python3.8/site-packages (from requests[socks]->gdown==3.12.2->flair==0.10) (1.7.1)\n",
      "Requirement already satisfied: click in /opt/anaconda/envs/Python3/lib/python3.8/site-packages (from sacremoses->transformers>=4.0.0->flair==0.10) (7.1.2)\n"
     ]
    }
   ],
   "source": [
    "import pandas as pd\n",
    "import pickle\n",
    "import os\n",
    "import re\n",
    "import numpy as np\n",
    "!pip install flair==0.10\n",
    "    \n",
    "import flair\n",
    "from flair.data import Sentence\n",
    "from flair.embeddings import WordEmbeddings, ELMoEmbeddings, TransformerWordEmbeddings, TransformerDocumentEmbeddings"
   ]
  },
  {
   "cell_type": "code",
   "execution_count": 9,
   "metadata": {},
   "outputs": [],
   "source": [
    "name = \"Cordeliers' Square in Lyon\"\n",
    "\n",
    "plot_outline = \"A stationary camera looks across the boulevard at a diagonal toward one corner of Lyon's Cordeliers' Square. It's a long shot, with a great deal of depth of focus. We can see the sky and fronts of four buildings, each four or five stories tall. It's a busy thoroughfare, with pedestrians walking in front of the buildings and crossing the boulevard between horse-drawn vehicles. A double-decker bus passes in front of us, pulled by two horses. Various tradesmen pass on wagons. One van passes.\""
   ]
  },
  {
   "cell_type": "code",
   "execution_count": 6,
   "metadata": {},
   "outputs": [],
   "source": [
    "picklesFolder = '/project/imdb_genrePredictor/models'\n",
    "pickle_list = os.listdir(picklesFolder)"
   ]
  },
  {
   "cell_type": "code",
   "execution_count": 12,
   "metadata": {},
   "outputs": [],
   "source": [
    "name_plot = name + ' - ' + plot_outline\n",
    "glove_embedding = WordEmbeddings('glove')\n",
    "embedding_size = glove_embedding.embedding_length\n",
    "sentence1 = Sentence(name_plot)\n",
    "glove_embedding.embed(sentence1)\n",
    "input_Value = np.array([np.mean([sentence1[m].embedding[x] for m in range(len(sentence1))]) for x in range(len(sentence1[0].embedding))])"
   ]
  },
  {
   "cell_type": "code",
   "execution_count": 18,
   "metadata": {},
   "outputs": [],
   "source": [
    "\n",
    "output = {}\n",
    "for pickleValue in pickle_list:\n",
    "    label = re.sub('PICKLE_','',pickleValue)\n",
    "    label = re.sub('\\.pkl','',label)\n",
    "    \n",
    "    model = pickle.load(open('/project/imdb_genrePredictor/models/'+pickleValue,'rb'))\n",
    "    \n",
    "    output[label] = model.predict(input_Value.reshape(1, -1))[0]"
   ]
  },
  {
   "cell_type": "code",
   "execution_count": 22,
   "metadata": {},
   "outputs": [],
   "source": [
    "prediction = [key for key, value in output.items() if value == 1]"
   ]
  },
  {
   "cell_type": "code",
   "execution_count": 23,
   "metadata": {},
   "outputs": [
    {
     "data": {
      "text/plain": [
       "['Short', 'Documentary']"
      ]
     },
     "execution_count": 23,
     "metadata": {},
     "output_type": "execute_result"
    }
   ],
   "source": [
    "prediction"
   ]
  },
  {
   "cell_type": "code",
   "execution_count": null,
   "metadata": {},
   "outputs": [],
   "source": []
  }
 ],
 "metadata": {
  "kernelspec": {
   "display_name": "Python [conda env:Python3] *",
   "language": "python",
   "name": "conda-env-Python3-py"
  },
  "language_info": {
   "codemirror_mode": {
    "name": "ipython",
    "version": 3
   },
   "file_extension": ".py",
   "mimetype": "text/x-python",
   "name": "python",
   "nbconvert_exporter": "python",
   "pygments_lexer": "ipython3",
   "version": "3.8.2"
  }
 },
 "nbformat": 4,
 "nbformat_minor": 2
}
