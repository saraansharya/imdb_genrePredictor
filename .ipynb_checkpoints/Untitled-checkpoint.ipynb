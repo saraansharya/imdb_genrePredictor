{
 "cells": [
  {
   "cell_type": "code",
   "execution_count": 6,
   "id": "76c332d9",
   "metadata": {},
   "outputs": [],
   "source": [
    "import json\n",
    "import requests\n",
    "import pickle\n",
    "import os\n",
    "import re\n",
    "import numpy as np\n",
    "#import sys\n",
    "# =============================================================================\n",
    "from flair.data import Sentence\n",
    "from flair.embeddings import WordEmbeddings\n",
    "from runModels import findGenres\n",
    "# =============================================================================\n",
    "\n",
    "#print(\"Hello World\")\n",
    "\n",
    "def handler(event,context):\n",
    "    predictions = findGenres(event,context)\n",
    "    return predictions#( \"hello \" + str(event))\n",
    "\n",
    "#    return {\n",
    "#            'headers':{'Content-Type': 'application/json'},\n",
    "#            'statusCode': 200,\n",
    "#            'body' : json.dumps({\"message\": \"Lambda container image invoked\"})\n",
    "#           }\n",
    "if __name__ == '__main__':\n",
    "    name = \"Cordeliers' Square in Lyon\"\n",
    "    plot_outline = \"A stationary camera looks across the boulevard at a diagonal toward one corner of Lyon's Cordeliers' Square. It's a long shot, with a great deal of depth of focus. We can see the sky and fronts of four buildings, each four or five stories tall. It's a busy thoroughfare, with pedestrians walking in front of the buildings and crossing the boulevard between horse-drawn vehicles. A double-decker bus passes in front of us, pulled by two horses. Various tradesmen pass on wagons. One van passes.\"\n",
    "    x = handler(name, plot_outline)#sys.argv[1],sys.argv[2])"
   ]
  },
  {
   "cell_type": "code",
   "execution_count": 7,
   "id": "459ce959",
   "metadata": {},
   "outputs": [
    {
     "data": {
      "text/plain": [
       "['Short', 'Documentary']"
      ]
     },
     "execution_count": 7,
     "metadata": {},
     "output_type": "execute_result"
    }
   ],
   "source": [
    "x"
   ]
  },
  {
   "cell_type": "code",
   "execution_count": null,
   "id": "51eee698",
   "metadata": {},
   "outputs": [],
   "source": []
  }
 ],
 "metadata": {
  "kernelspec": {
   "display_name": "Python 3",
   "language": "python",
   "name": "python3"
  },
  "language_info": {
   "codemirror_mode": {
    "name": "ipython",
    "version": 3
   },
   "file_extension": ".py",
   "mimetype": "text/x-python",
   "name": "python",
   "nbconvert_exporter": "python",
   "pygments_lexer": "ipython3",
   "version": "3.8.2"
  }
 },
 "nbformat": 4,
 "nbformat_minor": 5
}
