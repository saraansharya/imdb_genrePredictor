{
 "cells": [
  {
   "cell_type": "code",
   "execution_count": 8,
   "metadata": {},
   "outputs": [
    {
     "name": "stdout",
     "output_type": "stream",
     "text": [
      "https://gt70b3mq32.execute-api.eu-west-2.amazonaws.com/default/imdbgenres?name=Penitentiary&plot=A hitchhiker named Martel Gordone gets in a fight with two bikers over a prostitute, and one of the bikers is killed. Gordone is arrested and sent to prison, where he joins the prison's boxing team in an effort to secure an early parole and to establish his dominance over the prison's toughest gang.\n"
     ]
    },
    {
     "data": {
      "text/plain": [
       "{'Predictions ': ['Action', 'Crime', 'Drama']}"
      ]
     },
     "execution_count": 8,
     "metadata": {},
     "output_type": "execute_result"
    }
   ],
   "source": [
    "import requests\n",
    "name = \"Penitentiary\"\n",
    "plot = \"A hitchhiker named Martel Gordone gets in a fight with two bikers over a prostitute, and one of the bikers is killed. Gordone is arrested and sent to prison, where he joins the prison's boxing team in an effort to secure an early parole and to establish his dominance over the prison's toughest gang.\"\n",
    "api_url = \"https://gt70b3mq32.execute-api.eu-west-2.amazonaws.com/default/imdbgenres?name={}&plot={}\"\n",
    "print(api_url.format(name,plot))\n",
    "response = requests.get(api_url.format(name,plot))\n",
    "response.json()"
   ]
  },
  {
   "cell_type": "code",
   "execution_count": null,
   "metadata": {},
   "outputs": [],
   "source": []
  }
 ],
 "metadata": {
  "kernelspec": {
   "display_name": "Python [conda env:Python3] *",
   "language": "python",
   "name": "conda-env-Python3-py"
  },
  "language_info": {
   "codemirror_mode": {
    "name": "ipython",
    "version": 3
   },
   "file_extension": ".py",
   "mimetype": "text/x-python",
   "name": "python",
   "nbconvert_exporter": "python",
   "pygments_lexer": "ipython3",
   "version": "3.8.2"
  }
 },
 "nbformat": 4,
 "nbformat_minor": 2
}
